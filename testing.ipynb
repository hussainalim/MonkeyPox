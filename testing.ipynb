{
 "cells": [
  {
   "cell_type": "code",
   "execution_count": 1,
   "id": "7879a08e-6612-4bbf-824d-db1366e036d1",
   "metadata": {},
   "outputs": [],
   "source": [
    "from tensorflow.keras.models import load_model\n",
    "import visualkeras \n",
    "\n",
    "# Load the model\n",
    "model = load_model('mobilenet_1.h5')\n"
   ]
  },
  {
   "cell_type": "code",
   "execution_count": 2,
   "id": "91afcf3f-bf09-4dc9-842e-486584e4a714",
   "metadata": {},
   "outputs": [
    {
     "name": "stdout",
     "output_type": "stream",
     "text": [
      "1/1 [==============================] - 4s 4s/step\n",
      "Predicted class: Healthy (0.99)\n"
     ]
    }
   ],
   "source": [
    "import numpy as np\n",
    "from tensorflow.keras.preprocessing import image\n",
    "\n",
    "class_labels = ['Chickenpox', 'Cowpox', 'Healthy', 'HFMD', 'Measles', 'Monkeypox']\n",
    "\n",
    "#img_path = \"A:\\\\ML test\\AI-Skin Lesion Classifier\\\\3561fig1_opt.jpeg\" #cowpox\n",
    "img_path =\"A:\\\\ML test\\AI-Skin Lesion Classifier\\\\healthy.jpg\"\n",
    "#img_path=\"A:\\\\ML test\\AI-Skin Lesion Classifier\\\\Chickenpox6.jpg\"\n",
    "#img_path=\"A:\\ML test\\AI-Skin Lesion Classifier\\Chickenpox.jpg\"\n",
    "\n",
    "#img_path=\"A:\\ML test\\AI-Skin Lesion Classifier\\Chickenpox6.jpg\"\n",
    "\n",
    "img = image.load_img(img_path, target_size=(224, 224))  \n",
    "\n",
    "# Convert the image to a numpy array\n",
    "img_array = image.img_to_array(img)\n",
    "\n",
    "img_array = np.expand_dims(img_array, axis=0)\n",
    "\n",
    "img_array = img_array / 255.0 \n",
    "\n",
    "predictions = model.predict(img_array)\n",
    "\n",
    "predicted_class_idx = np.argmax(predictions, axis=1)[0]\n",
    "\n",
    "predicted_class_label = class_labels[predicted_class_idx]\n",
    "\n",
    "predicted_probability = predictions[0][predicted_class_idx]\n",
    "print(f\"Predicted class: {predicted_class_label} ({predicted_probability:.2f})\")\n"
   ]
  },
  {
   "cell_type": "code",
   "execution_count": null,
   "id": "f1c1f46b-9db1-4c9f-8845-d979a9041895",
   "metadata": {},
   "outputs": [],
   "source": []
  },
  {
   "cell_type": "code",
   "execution_count": null,
   "id": "ad8927ae-cfbd-4b7e-9e6d-42d662c99b4e",
   "metadata": {},
   "outputs": [],
   "source": []
  },
  {
   "cell_type": "code",
   "execution_count": null,
   "id": "bf7a799e-3e72-4d35-bd3f-9b04d1126c11",
   "metadata": {},
   "outputs": [],
   "source": []
  },
  {
   "cell_type": "code",
   "execution_count": null,
   "id": "0d0480de-0b25-4781-8f28-281111033e68",
   "metadata": {},
   "outputs": [],
   "source": []
  },
  {
   "cell_type": "code",
   "execution_count": 3,
   "id": "2b9e6f8d-7153-47de-aee0-8a594ba86521",
   "metadata": {},
   "outputs": [
    {
     "name": "stderr",
     "output_type": "stream",
     "text": [
      "C:\\Users\\zahra\\anaconda3\\envs\\tensorflowGPU\\lib\\site-packages\\tqdm\\auto.py:21: TqdmWarning: IProgress not found. Please update jupyter and ipywidgets. See https://ipywidgets.readthedocs.io/en/stable/user_install.html\n",
      "  from .autonotebook import tqdm as notebook_tqdm\n"
     ]
    }
   ],
   "source": [
    "import tensorflow as tf\n",
    "from tensorflow.keras.applications import MobileNetV2\n",
    "from tensorflow.keras.applications.mobilenet_v2 import preprocess_input, decode_predictions\n",
    "from tensorflow.keras.preprocessing import image\n",
    "import numpy as np\n",
    "import gradio as gr\n",
    "\n",
    "def classify_image(img):\n",
    "\n",
    "    img = img.resize((224, 224))\n",
    "    img_array = image.img_to_array(img)\n",
    "    img_array = np.expand_dims(img_array, axis=0)\n",
    "    img_array = preprocess_input(img_array)\n",
    "\n",
    "    predictions = model.predict(img_array)\n",
    "\n",
    "    custom_labels = ['Chickenpox', 'Cowpox', 'Healthy', 'HFMD', 'Measles', 'Monkeypox']\n",
    "    results = {custom_labels[i]: float(predictions[0][i]) for i in range(len(custom_labels))}\n",
    "    return results"
   ]
  },
  {
   "cell_type": "code",
   "execution_count": 4,
   "id": "bab96fc8-c6a5-4e3c-a791-11a54e8bf339",
   "metadata": {},
   "outputs": [
    {
     "name": "stdout",
     "output_type": "stream",
     "text": [
      "* Running on local URL:  http://127.0.0.1:7860\n",
      "\n",
      "To create a public link, set `share=True` in `launch()`.\n"
     ]
    },
    {
     "data": {
      "text/html": [
       "<div><iframe src=\"http://127.0.0.1:7860/\" width=\"100%\" height=\"500\" allow=\"autoplay; camera; microphone; clipboard-read; clipboard-write;\" frameborder=\"0\" allowfullscreen></iframe></div>"
      ],
      "text/plain": [
       "<IPython.core.display.HTML object>"
      ]
     },
     "metadata": {},
     "output_type": "display_data"
    },
    {
     "data": {
      "text/plain": []
     },
     "execution_count": 4,
     "metadata": {},
     "output_type": "execute_result"
    },
    {
     "name": "stdout",
     "output_type": "stream",
     "text": [
      "1/1 [==============================] - 0s 21ms/step\n",
      "1/1 [==============================] - 0s 32ms/step\n"
     ]
    }
   ],
   "source": [
    "interface = gr.Interface(\n",
    "    fn=classify_image,  \n",
    "    inputs=gr.Image(type=\"pil\"), \n",
    "    outputs=gr.Label(num_top_classes=3),  \n",
    "    title=\"AI-Skin Lesion Classifier\",\n",
    "    description=\"Upload an image, and the model will classify it.\"\n",
    ")\n",
    "\n",
    "# Launch the interface\n",
    "interface.launch()"
   ]
  },
  {
   "cell_type": "code",
   "execution_count": null,
   "id": "5a366c37-ee58-4e0c-8a00-d457e83142e6",
   "metadata": {},
   "outputs": [],
   "source": []
  },
  {
   "cell_type": "code",
   "execution_count": null,
   "id": "173913d3-887d-41c8-b1ce-1da0cf1664ad",
   "metadata": {},
   "outputs": [],
   "source": []
  },
  {
   "cell_type": "code",
   "execution_count": null,
   "id": "6153fa45-cde2-4465-a223-c587903afa2a",
   "metadata": {},
   "outputs": [],
   "source": []
  }
 ],
 "metadata": {
  "kernelspec": {
   "display_name": "Python 3 (ipykernel)",
   "language": "python",
   "name": "python3"
  },
  "language_info": {
   "codemirror_mode": {
    "name": "ipython",
    "version": 3
   },
   "file_extension": ".py",
   "mimetype": "text/x-python",
   "name": "python",
   "nbconvert_exporter": "python",
   "pygments_lexer": "ipython3",
   "version": "3.10.14"
  }
 },
 "nbformat": 4,
 "nbformat_minor": 5
}
